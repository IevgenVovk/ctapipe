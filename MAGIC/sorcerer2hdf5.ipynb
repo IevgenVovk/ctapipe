{
 "cells": [
  {
   "cell_type": "code",
   "execution_count": 1,
   "metadata": {},
   "outputs": [
    {
     "data": {
      "application/javascript": [
       "IPython.OutputArea.prototype._should_scroll = function(lines) {\n",
       "    return false;\n",
       "}"
      ],
      "text/plain": [
       "<IPython.core.display.Javascript object>"
      ]
     },
     "metadata": {},
     "output_type": "display_data"
    }
   ],
   "source": [
    "%%javascript\n",
    "IPython.OutputArea.prototype._should_scroll = function(lines) {\n",
    "    return false;\n",
    "}"
   ]
  },
  {
   "cell_type": "code",
   "execution_count": 2,
   "metadata": {},
   "outputs": [],
   "source": [
    "%load_ext cython"
   ]
  },
  {
   "cell_type": "code",
   "execution_count": 3,
   "metadata": {
    "scrolled": true
   },
   "outputs": [
    {
     "name": "stderr",
     "output_type": "stream",
     "text": [
      "/home/iwsatlas1/yusuke/software/root_v5.34.36/lib/ROOT.py:352: RuntimeWarning: numpy.dtype size changed, may indicate binary incompatibility. Expected 96, got 88\n",
      "  return _orig_ihook( name, *args, **kwds )\n"
     ]
    },
    {
     "data": {
      "text/plain": [
       "0"
      ]
     },
     "execution_count": 3,
     "metadata": {},
     "output_type": "execute_result"
    }
   ],
   "source": [
    "import ROOT\n",
    "import h5py\n",
    "import os\n",
    "from matplotlib import pyplot as plt\n",
    "import numpy as np\n",
    "import time\n",
    "import sys\n",
    "import datetime\n",
    "import time\n",
    "\n",
    "ROOT.gSystem.Load(\"$MARSSYS/libmars.so\")"
   ]
  },
  {
   "cell_type": "code",
   "execution_count": 4,
   "metadata": {},
   "outputs": [],
   "source": [
    "#filepath_in = \"/remote/ceph/user/m/mhuetten/MAGIC_data/sorcerer/\"\n",
    "#filename_M1 = \"20180821_M1_05074767.014_Y_CrabNebula-W0.40+035.root\"\n",
    "##filename_M2 = \"20180821_M2_05074767.014_D_CrabNebula-W0.40+035.root\"\n",
    "\n",
    "filepath_in  = \"/remote/ceph/user/y/yusuke/cta/MAGIC_LST/\"\n",
    "filepath_out = \"/remote/ceph/user/y/yusuke/cta/MAGIC_LST/\"\n",
    "\n",
    "# Observation data files\n",
    "#filename_M1 = \"20180821_M1_05074760.001_Y_CrabNebula-W0.40+215.root\"\n",
    "#filename_M2 = \"20180821_M2_05074760.001_Y_CrabNebula-W0.40+215.root\"\n",
    "\n",
    "# Monte Carlo files\n",
    "filename_M1 = \"GA_M1_za05to35_9_188880_Y_w0.root\"\n",
    "filename_M2 = \"GA_M2_za05to35_9_188880_Y_w0.root\"\n",
    "\n",
    "ntels = 2\n",
    "\n",
    "camgeom = ROOT.MGeomCamMagicTwo()\n",
    "#print camgeom.GetPixels().At(4).Print() \n",
    "\n",
    "camera = ROOT.MHCamera(camgeom)\n",
    "\n",
    "filenames = [filename_M1, filename_M2]\n",
    "filepaths = [os.path.join(filepath_in, filename_M1), os.path.join(filepath_in, filename_M2)]\n",
    "\n",
    "infile_M1 = ROOT.TFile(os.path.join(filepath_in, filename_M1))\n",
    "infile_M2 = ROOT.TFile(os.path.join(filepath_in, filename_M2))\n",
    "\n",
    "infiles = [infile_M1, infile_M2]\n",
    "\n",
    "filename_out = ''.join(filename_M1.split(\"_M1\"))"
   ]
  },
  {
   "cell_type": "code",
   "execution_count": 5,
   "metadata": {},
   "outputs": [],
   "source": [
    "#ROOT.TBrowser()"
   ]
  },
  {
   "cell_type": "code",
   "execution_count": 6,
   "metadata": {},
   "outputs": [],
   "source": [
    "def get_ROOT_array(file, tree, branch, leaf):\n",
    "    tfile = ROOT.TFile(file)\n",
    "    ttree = getattr(tfile, tree)\n",
    "    hist = ROOT.TH1D(\"hist\",\"hist\",100,-100,100)\n",
    "    ttree.Project(\"hist\", \"%s.%s\"%(branch,leaf),\"\",\"\",100000000000,0)\n",
    "    treeArr = ttree.GetV1()\n",
    "    result = np.array(np.frombuffer(treeArr,count=int(hist.GetEntries())), dtype = np.double)\n",
    "    return result"
   ]
  },
  {
   "cell_type": "code",
   "execution_count": 7,
   "metadata": {
    "scrolled": true
   },
   "outputs": [
    {
     "name": "stdout",
     "output_type": "stream",
     "text": [
      "\r",
      " ... processing event 0, 2018-09-20 17:02:32.683755 >>> Percent Done : 0.00%\n",
      " File read into python arrays >>> Elapsed time: 0.0 s\n"
     ]
    },
    {
     "ename": "NameError",
     "evalue": "name 'dset_name' is not defined",
     "output_type": "error",
     "traceback": [
      "\u001b[0;31m---------------------------------------------------------------------------\u001b[0m",
      "\u001b[0;31mNameError\u001b[0m                                 Traceback (most recent call last)",
      "\u001b[0;32m<ipython-input-7-ae74b9ed019f>\u001b[0m in \u001b[0;36m<module>\u001b[0;34m()\u001b[0m\n\u001b[1;32m    172\u001b[0m \u001b[0;34m\u001b[0m\u001b[0m\n\u001b[1;32m    173\u001b[0m         \u001b[0mdt\u001b[0m \u001b[0;34m=\u001b[0m \u001b[0mnp\u001b[0m\u001b[0;34m.\u001b[0m\u001b[0mdtype\u001b[0m\u001b[0;34m(\u001b[0m\u001b[0;34m[\u001b[0m\u001b[0;34m(\u001b[0m\u001b[0;34m\"Energy\"\u001b[0m\u001b[0;34m,\u001b[0m \u001b[0mnp\u001b[0m\u001b[0;34m.\u001b[0m\u001b[0mdouble\u001b[0m\u001b[0;34m)\u001b[0m\u001b[0;34m,\u001b[0m\u001b[0;34m]\u001b[0m\u001b[0;34m)\u001b[0m\u001b[0;34m\u001b[0m\u001b[0m\n\u001b[0;32m--> 174\u001b[0;31m         \u001b[0mdsets_mcheader\u001b[0m\u001b[0;34m.\u001b[0m\u001b[0mappend\u001b[0m\u001b[0;34m(\u001b[0m\u001b[0mf\u001b[0m\u001b[0;34m.\u001b[0m\u001b[0mcreate_dataset\u001b[0m\u001b[0;34m(\u001b[0m\u001b[0mos\u001b[0m\u001b[0;34m.\u001b[0m\u001b[0mpath\u001b[0m\u001b[0;34m.\u001b[0m\u001b[0mjoin\u001b[0m\u001b[0;34m(\u001b[0m\u001b[0mdset_name\u001b[0m\u001b[0;34m,\u001b[0m\u001b[0;34m\"McHeader/Energy\"\u001b[0m\u001b[0;34m)\u001b[0m\u001b[0;34m,\u001b[0m \u001b[0;34m(\u001b[0m\u001b[0mnevents_check\u001b[0m\u001b[0;34m,\u001b[0m\u001b[0;34m)\u001b[0m\u001b[0;34m,\u001b[0m \u001b[0mdt\u001b[0m\u001b[0;34m)\u001b[0m\u001b[0;34m)\u001b[0m\u001b[0;34m\u001b[0m\u001b[0m\n\u001b[0m\u001b[1;32m    175\u001b[0m         \u001b[0mdsets_mcheader\u001b[0m\u001b[0;34m[\u001b[0m\u001b[0;34m-\u001b[0m\u001b[0;36m1\u001b[0m\u001b[0;34m]\u001b[0m\u001b[0;34m[\u001b[0m\u001b[0;34m.\u001b[0m\u001b[0;34m.\u001b[0m\u001b[0;34m.\u001b[0m\u001b[0;34m]\u001b[0m \u001b[0;34m=\u001b[0m \u001b[0mnp\u001b[0m\u001b[0;34m.\u001b[0m\u001b[0marray\u001b[0m\u001b[0;34m(\u001b[0m\u001b[0mEnergy\u001b[0m\u001b[0;34m,\u001b[0m \u001b[0mdtype\u001b[0m \u001b[0;34m=\u001b[0m \u001b[0mdt\u001b[0m\u001b[0;34m)\u001b[0m\u001b[0;34m\u001b[0m\u001b[0m\n\u001b[1;32m    176\u001b[0m         \u001b[0mdsets_mcheader\u001b[0m\u001b[0;34m[\u001b[0m\u001b[0;34m-\u001b[0m\u001b[0;36m1\u001b[0m\u001b[0;34m]\u001b[0m\u001b[0;34m.\u001b[0m\u001b[0mattrs\u001b[0m\u001b[0;34m[\u001b[0m\u001b[0;34m'FIELD_0_NAME'\u001b[0m\u001b[0;34m]\u001b[0m \u001b[0;34m=\u001b[0m \u001b[0;34m\"Energy\"\u001b[0m\u001b[0;34m\u001b[0m\u001b[0m\n",
      "\u001b[0;31mNameError\u001b[0m: name 'dset_name' is not defined"
     ]
    }
   ],
   "source": [
    "f = h5py.File(os.path.join(filepath_out,filename_out.split(\".root\")[0] + \".hdf5\"),\"w\")\n",
    "dsets_events = []\n",
    "\n",
    "for ntel in range(ntels):\n",
    "    \n",
    "    Runheader = ROOT.TChain(\"RunHeaders\")\n",
    "    Runheader.Add(os.path.join(filepath_in, filenames[ntel]))\n",
    "\n",
    "    head = ROOT.MRawRunHeader()\n",
    "    Runheader.SetBranchAddress(\"MRawRunHeader.\",head)\n",
    "\n",
    "    # extract global information out of first event:\n",
    "    Runheader.GetEntry(0)\n",
    "    TelescopeNumber =  head.GetTelescopeNumber()\n",
    "    nevents = head.GetNumEvents()\n",
    "    nevents = 1\n",
    "    #max_event = Events.GetEntries()\n",
    "    nevents_check = 0\n",
    "    \n",
    "    RunNumber = head.GetRunNumber()\n",
    "    RunType = head.GetRunTypeStr()\n",
    "    if RunType == \"Data\":\n",
    "        is_mc = False\n",
    "    elif RunType == \"Monte Carlo\":\n",
    "        is_mc = True\n",
    "        Core_x_vec = get_ROOT_array(filepaths[ntel], \"Events\", \"MMcEvt\", \"fCoreX\")\n",
    "        Core_y_vec = get_ROOT_array(filepaths[ntel], \"Events\", \"MMcEvt\", \"fCoreY\")\n",
    "        h_first_vec = get_ROOT_array(filepaths[ntel], \"Events\", \"MMcEvt\", \"fZFirstInteraction\")\n",
    "    else:\n",
    "        is_mc = False\n",
    "    \n",
    "    Events = ROOT.TChain(\"Events\")\n",
    "    Events.Add(os.path.join(filepath_in, filenames[ntel]))\n",
    "    \n",
    "    evtdata_phe = ROOT.MCerPhotEvt()\n",
    "    evtdata_arrival = ROOT.MArrivalTime()\n",
    "\n",
    "    evtheader = ROOT.MRawEvtHeader()\n",
    "    if is_mc == True:\n",
    "        mcevtheader = ROOT.MMcEvt()\n",
    " \n",
    "    Events.SetBranchAddress(\"MCerPhotEvt.\",evtdata_phe)\n",
    "    Events.SetBranchAddress(\"MArrivalTime.\",evtdata_arrival)\n",
    "    Events.SetBranchAddress(\"MRawEvtHeader.\",evtheader)\n",
    "    if is_mc == True:\n",
    "        Events.SetBranchAddress(\"MMcEvt.\",mcevtheader)\n",
    "    \n",
    "    arr_phe_2D = []\n",
    "    arr_arrival_2D = []\n",
    "    arr_triggerid = []\n",
    "\n",
    "    DAQEvtNumber = []\n",
    "    ClockCounter = []\n",
    "    NumTrigLvl2 = []\n",
    "    StereoEvtNumber = []\n",
    "    TriggerID = []\n",
    "    TrigPattern = []\n",
    "    CalibrationPattern = []\n",
    "    MacrocellsPattern = []\n",
    "    TimeDiff = []    \n",
    "    TrigPatternNames = []\n",
    "    \n",
    "    if is_mc == True:\n",
    "        Energy = [] # TeV\n",
    "        Core_params = [] # m\n",
    "        X_max = [] # m\n",
    "        H_first_int = [] # m\n",
    "        Shower_angles = []\n",
    "        \n",
    "    # valid for runs after 2013-12-13, see MARS MTriggerPatternDecode.cc, ll. 224        \n",
    "    TrigPatternNames.append('L3 trigger')\n",
    "    TrigPatternNames.append('Calibration')\n",
    "    TrigPatternNames.append('LIDAR')\n",
    "    TrigPatternNames.append('Pedestal')\n",
    "    TrigPatternNames.append('Pulse injection')\n",
    "    TrigPatternNames.append('Sumtrigger')\n",
    "    TrigPatternNames.append('Topo trigger')\n",
    "    TrigPatternNames.append('L1 trigger')\n",
    "    \n",
    "    \n",
    "    start_time = time.time()\n",
    "\n",
    "    \n",
    "    for nevent in range(nevents):\n",
    "\n",
    "        if nevent >= nevents:\n",
    "           continue\n",
    "\n",
    "        sys.stdout.write(\"\\r ... processing event \" + str(nevent) + \", \" \\\n",
    "                         + \"%s >>> Percent Done : %.2f%%\" % (datetime.datetime.now(), 100*nevent/float(nevents)))\n",
    "\n",
    "        Events.GetEvent(nevent)\n",
    "        \n",
    "        trigid = evtheader.GetTriggerID()\n",
    "        \n",
    "        binarypattern = '\\t{0:016b}'.format(trigid&0xff) \n",
    "        \n",
    "        triggpattern = (bool(int(binarypattern[-8])), \n",
    "                        bool(int(binarypattern[-1])), \n",
    "                        bool(int(binarypattern[-2])), \n",
    "                        bool(int(binarypattern[-3])), \n",
    "                        bool(int(binarypattern[-4])), \n",
    "                        bool(int(binarypattern[-5])), \n",
    "                        bool(int(binarypattern[-6])), \n",
    "                        bool(int(binarypattern[-7])))\n",
    "                \n",
    "        # check mono-character of run:\n",
    "        #if nevent > 0:\n",
    "         #   if triggpattern[0] == False:\n",
    "         #       if StereoEvtNumber[-1] == StereoEvtNumber[-2]:\n",
    "         #          StereoEvtNumber[-1] = -1\n",
    "                #else:\n",
    "                   # print \"calib!\"\n",
    "        \n",
    "        npixels = evtdata_phe.GetNumPixels() + 1\n",
    "        \n",
    "        camera.SetCamContent(evtdata_phe)\n",
    "        camera.SetAllUsed()\n",
    "        arr_phe_evt = []\n",
    "        for i_pixel in range(npixels):\n",
    "            arr_phe_evt.append(camera.GetBinContent(i_pixel + 1))\n",
    "\n",
    "        camera.SetCamContent(evtdata_arrival)\n",
    "        camera.SetAllUsed()\n",
    "        arr_arrival_evt = []\n",
    "        for i_pixel in range(npixels):\n",
    "            arr_arrival_evt.append(camera.GetBinContent(i_pixel + 1))\n",
    "            \n",
    "        if arr_phe_evt != []:\n",
    "            arr_phe_2D.append(np.array(arr_phe_evt))\n",
    "            arr_arrival_2D.append(np.array(arr_arrival_evt))\n",
    "            \n",
    "            DAQEvtNumber.append(evtheader.GetDAQEvtNumber())\n",
    "            ClockCounter.append(evtheader.GetClockCounter())\n",
    "            NumTrigLvl2.append(evtheader.GetNumTrigLvl2())\n",
    "            StereoEvtNumber.append(evtheader.GetStereoEvtNumber())\n",
    "            TriggerID.append(evtheader.GetTriggerID())\n",
    "            TrigPattern.append(triggpattern)\n",
    "            CalibrationPattern.append(evtheader.GetCalibrationPattern())\n",
    "            MacrocellsPattern.append(evtheader.GetMacrocellsPattern())\n",
    "            TimeDiff.append(evtheader.GetTimeDiff())\n",
    "            if is_mc == True:\n",
    "                energy_val = str(mcevtheader.GetEnergyStr())[:-3]\n",
    "                energy_unit = str(mcevtheader.GetEnergyStr())[-3:]\n",
    "                if energy_unit == \"TeV\":\n",
    "                    Energy.append(float(energy_val))\n",
    "                elif energy_unit == \"GeV\":\n",
    "                    Energy.append(float(energy_val) / 1000.)\n",
    "                else:\n",
    "                    raise IOError(\"Error!\")\n",
    "                Core_params.append((Core_x_vec[nevent] / 100., Core_y_vec[nevent] / 100.)) # meters\n",
    "                H_first_int.append(h_first_vec[nevent] / 100.) # meters\n",
    "            \n",
    "            \n",
    "    end_time = time.time()\n",
    "    elapsed = end_time - start_time\n",
    "    print \"\\n File read into python arrays >>> Elapsed time: %.1f s\" % elapsed\n",
    "    \n",
    "    ##########################\n",
    "    # write data to hdf5 file:\n",
    "    \n",
    "    arr_phe_2D = np.array(arr_phe_2D)\n",
    "    arr_arrival_2D = np.array(arr_arrival_2D)\n",
    "\n",
    "    \n",
    "    dsets_events.append(f.create_dataset(\"dl1/tel\"+ str(ntel+1) +\"/image\", data=arr_phe_2D, compression='gzip'))#, compression_opts=9)\n",
    "    dsets_events.append(f.create_dataset(\"dl1/tel\"+ str(ntel+1) +\"/peakpos\", data=arr_arrival_2D, compression='gzip'))#, compression_opts=9)\n",
    "\n",
    "\n",
    "    # write MC information:\n",
    "    if is_mc == True:\n",
    "        dsets_mcheader = []\n",
    "        \n",
    "        dt = np.dtype([(\"Energy\", np.double),])\n",
    "        dsets_mcheader.append(f.create_dataset(os.path.join(dset_name,\"McHeader/Energy\"), (nevents_check,), dt))\n",
    "        dsets_mcheader[-1][...] = np.array(Energy, dtype = dt)\n",
    "        dsets_mcheader[-1].attrs['FIELD_0_NAME'] = \"Energy\"\n",
    "        dsets_mcheader[-1].attrs['FIELD_0_UNIT'] = \"TeV\"\n",
    "        \n",
    "        dt = np.dtype([(\"Core_x\", np.double), (\"Core_y\", np.double)])\n",
    "        dsets_mcheader.append(f.create_dataset(os.path.join(dset_name,\"McHeader/Core_xy\"), (nevents_check,), dt))\n",
    "        dsets_mcheader[-1][...] = np.array(Core_params, dtype = dt)\n",
    "        dsets_mcheader[-1].attrs['FIELD_0_NAME'] = \"Core_x\"\n",
    "        dsets_mcheader[-1].attrs['FIELD_1_NAME'] = \"Core_y\"\n",
    "        dsets_mcheader[-1].attrs['FIELD_0_UNIT'] = \"m\"\n",
    "\n",
    "        dt = np.dtype([(\"H_first_int\", np.double),])\n",
    "        dsets_mcheader.append(f.create_dataset(os.path.join(dset_name,\"McHeader/H_first_int\"), (nevents_check,), dt))\n",
    "        dsets_mcheader[-1][...] = np.array(H_first_int, dtype = dt)\n",
    "        dsets_mcheader[-1].attrs['FIELD_0_NAME'] = \"H_first_int\"\n",
    "        dsets_mcheader[-1].attrs['FIELD_0_UNIT'] = \"m\"\n",
    "\n",
    "f.close()"
   ]
  },
  {
   "cell_type": "code",
   "execution_count": null,
   "metadata": {},
   "outputs": [],
   "source": [
    "f.close()"
   ]
  }
 ],
 "metadata": {
  "kernelspec": {
   "display_name": "Python 2",
   "language": "python",
   "name": "python2"
  },
  "language_info": {
   "codemirror_mode": {
    "name": "ipython",
    "version": 2
   },
   "file_extension": ".py",
   "mimetype": "text/x-python",
   "name": "python",
   "nbconvert_exporter": "python",
   "pygments_lexer": "ipython2",
   "version": "2.7.15"
  },
  "varInspector": {
   "cols": {
    "lenName": 16,
    "lenType": 16,
    "lenVar": 40
   },
   "kernels_config": {
    "python": {
     "delete_cmd_postfix": "",
     "delete_cmd_prefix": "del ",
     "library": "var_list.py",
     "varRefreshCmd": "print(var_dic_list())"
    },
    "r": {
     "delete_cmd_postfix": ") ",
     "delete_cmd_prefix": "rm(",
     "library": "var_list.r",
     "varRefreshCmd": "cat(var_dic_list()) "
    }
   },
   "position": {
    "height": "458.85px",
    "left": "1364px",
    "right": "9px",
    "top": "157px",
    "width": "387px"
   },
   "types_to_exclude": [
    "module",
    "function",
    "builtin_function_or_method",
    "instance",
    "_Feature"
   ],
   "window_display": true
  }
 },
 "nbformat": 4,
 "nbformat_minor": 2
}
